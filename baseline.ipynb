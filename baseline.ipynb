{
 "cells": [
  {
   "cell_type": "code",
   "execution_count": 32,
   "metadata": {},
   "outputs": [],
   "source": [
    "import pandas as pd\n",
    "from sklearn.metrics import classification_report"
   ]
  },
  {
   "cell_type": "code",
   "execution_count": 33,
   "metadata": {},
   "outputs": [],
   "source": [
    "# STEP 1: Load the CoNLL-2003 dataset\n",
    "\n",
    "def load_data(file_path):\n",
    "    # Read the dataset and preprocess it\n",
    "    df = pd.read_csv(file_path, sep=\" \", header=None, names=[\"Word\", \"POS\", \"Chunk\", \"NE\"])\n",
    "    df = df[df[\"Word\"] != \"-DOCSTART-\"]  # Remove -DOCSTART- lines\n",
    "\n",
    "    # Remove empty lines\n",
    "    df = df.dropna(subset=[\"NE\"]) \n",
    "    df = df.dropna(subset=[\"Word\"])\n",
    "\n",
    "    def update_ne(ne):\n",
    "        ne_mapping = {\n",
    "            'B-ORG': 'ORG',\n",
    "            'O': 'O',\n",
    "            'B-MISC': 'MISC',\n",
    "            'B-PER': 'PER',\n",
    "            'I-PER': 'PER',\n",
    "            'B-LOC': 'LOC',\n",
    "            'I-ORG': 'ORG',\n",
    "            'I-MISC': 'MISC',\n",
    "            'I-LOC': 'LOC'\n",
    "        }\n",
    "        return ne_mapping.get(ne, ne)\n",
    "    \n",
    "    # Update NE values\n",
    "    df[\"NE\"] = df[\"NE\"].apply(update_ne)\n",
    "\n",
    "    return df\n",
    "\n",
    "train_df = load_data(\"conll2003/train.txt\")\n",
    "test_df = load_data(\"conll2003/test.txt\")\n",
    "\n",
    "# Store all NER tags\n",
    "ne_tags = list(train_df[\"NE\"].unique())"
   ]
  },
  {
   "cell_type": "code",
   "execution_count": 34,
   "metadata": {},
   "outputs": [
    {
     "data": {
      "text/html": [
       "<div>\n",
       "<style scoped>\n",
       "    .dataframe tbody tr th:only-of-type {\n",
       "        vertical-align: middle;\n",
       "    }\n",
       "\n",
       "    .dataframe tbody tr th {\n",
       "        vertical-align: top;\n",
       "    }\n",
       "\n",
       "    .dataframe thead th {\n",
       "        text-align: right;\n",
       "    }\n",
       "</style>\n",
       "<table border=\"1\" class=\"dataframe\">\n",
       "  <thead>\n",
       "    <tr style=\"text-align: right;\">\n",
       "      <th></th>\n",
       "      <th>Word</th>\n",
       "      <th>POS</th>\n",
       "      <th>Chunk</th>\n",
       "      <th>NE</th>\n",
       "    </tr>\n",
       "  </thead>\n",
       "  <tbody>\n",
       "    <tr>\n",
       "      <th>1</th>\n",
       "      <td>SOCCER</td>\n",
       "      <td>NN</td>\n",
       "      <td>B-NP</td>\n",
       "      <td>O</td>\n",
       "    </tr>\n",
       "    <tr>\n",
       "      <th>2</th>\n",
       "      <td>-</td>\n",
       "      <td>:</td>\n",
       "      <td>O</td>\n",
       "      <td>O</td>\n",
       "    </tr>\n",
       "    <tr>\n",
       "      <th>3</th>\n",
       "      <td>JAPAN</td>\n",
       "      <td>NNP</td>\n",
       "      <td>B-NP</td>\n",
       "      <td>LOC</td>\n",
       "    </tr>\n",
       "    <tr>\n",
       "      <th>4</th>\n",
       "      <td>GET</td>\n",
       "      <td>VB</td>\n",
       "      <td>B-VP</td>\n",
       "      <td>O</td>\n",
       "    </tr>\n",
       "    <tr>\n",
       "      <th>5</th>\n",
       "      <td>LUCKY</td>\n",
       "      <td>NNP</td>\n",
       "      <td>B-NP</td>\n",
       "      <td>O</td>\n",
       "    </tr>\n",
       "    <tr>\n",
       "      <th>6</th>\n",
       "      <td>WIN</td>\n",
       "      <td>NNP</td>\n",
       "      <td>I-NP</td>\n",
       "      <td>O</td>\n",
       "    </tr>\n",
       "    <tr>\n",
       "      <th>7</th>\n",
       "      <td>,</td>\n",
       "      <td>,</td>\n",
       "      <td>O</td>\n",
       "      <td>O</td>\n",
       "    </tr>\n",
       "    <tr>\n",
       "      <th>8</th>\n",
       "      <td>CHINA</td>\n",
       "      <td>NNP</td>\n",
       "      <td>B-NP</td>\n",
       "      <td>PER</td>\n",
       "    </tr>\n",
       "    <tr>\n",
       "      <th>9</th>\n",
       "      <td>IN</td>\n",
       "      <td>IN</td>\n",
       "      <td>B-PP</td>\n",
       "      <td>O</td>\n",
       "    </tr>\n",
       "    <tr>\n",
       "      <th>10</th>\n",
       "      <td>SURPRISE</td>\n",
       "      <td>DT</td>\n",
       "      <td>B-NP</td>\n",
       "      <td>O</td>\n",
       "    </tr>\n",
       "  </tbody>\n",
       "</table>\n",
       "</div>"
      ],
      "text/plain": [
       "        Word  POS Chunk   NE\n",
       "1     SOCCER   NN  B-NP    O\n",
       "2          -    :     O    O\n",
       "3      JAPAN  NNP  B-NP  LOC\n",
       "4        GET   VB  B-VP    O\n",
       "5      LUCKY  NNP  B-NP    O\n",
       "6        WIN  NNP  I-NP    O\n",
       "7          ,    ,     O    O\n",
       "8      CHINA  NNP  B-NP  PER\n",
       "9         IN   IN  B-PP    O\n",
       "10  SURPRISE   DT  B-NP    O"
      ]
     },
     "execution_count": 34,
     "metadata": {},
     "output_type": "execute_result"
    }
   ],
   "source": [
    "test_df[:10]"
   ]
  },
  {
   "cell_type": "code",
   "execution_count": 35,
   "metadata": {},
   "outputs": [
    {
     "data": {
      "text/plain": [
       "'O'"
      ]
     },
     "execution_count": 35,
     "metadata": {},
     "output_type": "execute_result"
    }
   ],
   "source": [
    "# STEP 2: Find the majority class in training data\n",
    "majority_class = train_df[\"NE\"].value_counts().idxmax()\n",
    "majority_class"
   ]
  },
  {
   "cell_type": "code",
   "execution_count": 40,
   "metadata": {},
   "outputs": [
    {
     "name": "stdout",
     "output_type": "stream",
     "text": [
      "Majority Baseline Classification Report:\n",
      "              precision    recall  f1-score   support\n",
      "\n",
      "         LOC       0.00      0.00      0.00      1925\n",
      "        MISC       0.00      0.00      0.00       918\n",
      "           O       0.82      1.00      0.90     37894\n",
      "         ORG       0.00      0.00      0.00      2496\n",
      "         PER       0.00      0.00      0.00      2773\n",
      "\n",
      "    accuracy                           0.82     46006\n",
      "   macro avg       0.16      0.20      0.18     46006\n",
      "weighted avg       0.68      0.82      0.74     46006\n",
      "\n"
     ]
    }
   ],
   "source": [
    "# STEP 3: \"Predict\" with majority class (from training data) for every row in test dataset\n",
    "majority_predictions = [majority_class] * len(test_df[\"NE\"])\n",
    "\n",
    "# STEP 4: Evaluate baseline using classification_report\n",
    "report = classification_report(test_df[\"NE\"], majority_predictions, zero_division=0)\n",
    "\n",
    "print(report)\n",
    "\n",
    "with open(\"ner_results_baseline.txt\", \"w\", encoding=\"utf-8\") as f:\n",
    "    f.write(report)"
   ]
  }
 ],
 "metadata": {
  "kernelspec": {
   "display_name": "ling413",
   "language": "python",
   "name": "python3"
  },
  "language_info": {
   "codemirror_mode": {
    "name": "ipython",
    "version": 3
   },
   "file_extension": ".py",
   "mimetype": "text/x-python",
   "name": "python",
   "nbconvert_exporter": "python",
   "pygments_lexer": "ipython3",
   "version": "3.12.1"
  }
 },
 "nbformat": 4,
 "nbformat_minor": 2
}
